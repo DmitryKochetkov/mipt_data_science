{
 "cells": [
  {
   "cell_type": "markdown",
   "metadata": {},
   "source": [
    "# Домашнее задание по курсу анализа данных # 2\n",
    "Версия от 14.11.2021\n",
    "\n",
    "**Автор:** Миленькин Александр\n",
    "\n",
    "**Выполнил:** Кочетков Дмитрий"
   ]
  },
  {
   "cell_type": "markdown",
   "metadata": {},
   "source": [
    "# Парсим рейтинг преподавателей с Вики-Физтех"
   ]
  },
  {
   "cell_type": "markdown",
   "metadata": {},
   "source": [
    "<div class=\"alert alert-info\">\n",
    "    \n",
    "Итак, перед вами **VIKI-MIPT** - сборник отзывов о кафедрах и преподавателях МФТИ: ` http://wikimipt.org/wiki/ `\n",
    "\n",
    "Эта кладезь отзывов не раз давала студентам оценить психологический портрет потенциальных экзаменаторов и преподавателей. "
   ]
  },
  {
   "cell_type": "markdown",
   "metadata": {},
   "source": [
    "**Задача** - собрать данные по всем текущим преподавателям всех `институтских кафедр` МФТИ."
   ]
  },
  {
   "cell_type": "code",
   "execution_count": 1,
   "metadata": {},
   "outputs": [
    {
     "name": "stderr",
     "output_type": "stream",
     "text": [
      "\n",
      "\n",
      "====== WebDriver manager ======\n",
      "Current google-chrome version is 96.0.4664\n",
      "Get LATEST chromedriver version for 96.0.4664 google-chrome\n",
      "Driver [C:\\Users\\Dmitry Kochetkov\\.wdm\\drivers\\chromedriver\\win32\\96.0.4664.45\\chromedriver.exe] found in cache\n",
      "C:\\Users\\DMITRY~1\\AppData\\Local\\Temp/ipykernel_25588/740001482.py:11: DeprecationWarning: executable_path has been deprecated, please pass in a Service object\n",
      "  driver = webdriver.Chrome(ChromeDriverManager().install(), options=chrome_options)\n"
     ]
    }
   ],
   "source": [
    "from selenium import webdriver\n",
    "from selenium.webdriver.chrome.options import Options\n",
    "from selenium.common.exceptions import NoSuchElementException\n",
    "from selenium.webdriver.common.by import By\n",
    "from webdriver_manager.chrome import ChromeDriverManager\n",
    "\n",
    "chrome_options = Options()\n",
    "chrome_options.add_argument(\"--disable-extensions\")\n",
    "chrome_options.add_argument(\"--disable-gpu\")\n",
    "chrome_options.add_argument(\"--headless\")\n",
    "driver = webdriver.Chrome(ChromeDriverManager().install(), options=chrome_options)\n",
    "\n",
    "# Ссылка на страницу \"Кафедры по алфавиту\"\n",
    "departments_list_url = 'http://wikimipt.org/wiki/%D0%9A%D0%B0%D1%82%D0%B5%D0%B3%D0%BE%D1%80%D0%B8%D1%8F:%D0%9A%D0%B0%D1%84%D0%B5%D0%B4%D1%80%D1%8B_%D0%BF%D0%BE_%D0%B0%D0%BB%D1%84%D0%B0%D0%B2%D0%B8%D1%82%D1%83'\n",
    "driver.get(departments_list_url)"
   ]
  },
  {
   "cell_type": "code",
   "execution_count": 2,
   "metadata": {},
   "outputs": [],
   "source": [
    "# Ссылки на страницы кафедр\n",
    "department_urls = []\n",
    "\n",
    "for link in driver.find_elements(By.XPATH, '//div[@class=\"mw-category\"]//div[@class=\"mw-category-group\"]//ul//li//a'):\n",
    "    department_urls.append(link.get_property('href'))"
   ]
  },
  {
   "cell_type": "code",
   "execution_count": 3,
   "metadata": {},
   "outputs": [],
   "source": [
    "# Для обработки оценок\n",
    "\n",
    "def parse_score(raw_score: str) -> float:\n",
    "    if raw_score == None or type(raw_score) != str or raw_score == '':\n",
    "        return None\n",
    "    if raw_score == '( нет голосов )':\n",
    "        return 0.0\n",
    "    return float(raw_score[0:raw_score.find(' ')])"
   ]
  },
  {
   "cell_type": "code",
   "execution_count": 4,
   "metadata": {},
   "outputs": [
    {
     "name": "stderr",
     "output_type": "stream",
     "text": [
      "C:\\Users\\DMITRY~1\\AppData\\Local\\Temp/ipykernel_25588/2676479202.py:19: DeprecationWarning: find_element_by_* commands are deprecated. Please use find_element() instead\n",
      "  full_name = driver.find_element_by_id('firstHeading').text\n",
      "D:\\ProgramData\\Anaconda3\\lib\\site-packages\\selenium\\webdriver\\remote\\webelement.py:359: UserWarning: find_elements_by_* commands are deprecated. Please use find_elements() instead\n",
      "  warnings.warn(\"find_elements_by_* commands are deprecated. Please use find_elements() instead\")\n",
      "D:\\ProgramData\\Anaconda3\\lib\\site-packages\\selenium\\webdriver\\remote\\webelement.py:341: UserWarning: find_element_by_* commands are deprecated. Please use find_element() instead\n",
      "  warnings.warn(\"find_element_by_* commands are deprecated. Please use find_element() instead\")\n",
      "D:\\ProgramData\\Anaconda3\\lib\\site-packages\\selenium\\webdriver\\remote\\webelement.py:446: UserWarning: find_element_by_* commands are deprecated. Please use find_element() instead\n",
      "  warnings.warn(\"find_element_by_* commands are deprecated. Please use find_element() instead\")\n"
     ]
    },
    {
     "name": "stdout",
     "output_type": "stream",
     "text": [
      "Warning! No data found for teacher Плоткин Арнольд Леонидович\n"
     ]
    }
   ],
   "source": [
    "teachers = []\n",
    "\n",
    "for department_url in department_urls:\n",
    "    driver.get(department_url)\n",
    "    department = driver.find_element(By.ID, \"firstHeading\").text\n",
    "    \n",
    "    teacher_urls = []\n",
    "    for teacher_link in driver.find_elements(By.XPATH, '//div[@id=\"mw-content-text\"]//div[@style=\"-moz-column-count:3; column-count:3; -webkit-column-count:3\"]//ul//li//a'):\n",
    "        teacher_urls.append(teacher_link.get_property('href'))\n",
    "\n",
    "    for teacher_link in driver.find_elements(By.XPATH, '//div[@class=\"gallerytext\"]//a'):\n",
    "        teacher_urls.append(teacher_link.get_property('href'))\n",
    "\n",
    "    for teacher_url in teacher_urls:\n",
    "        driver.get(teacher_url)\n",
    "\n",
    "        full_name = driver.find_element_by_id('firstHeading').text\n",
    "\n",
    "        try:\n",
    "            card = driver.find_element(By.ID, \"mw-content-text\").find_element(By.TAG_NAME, 'table') # Табличка в правой части страницы\n",
    "            \n",
    "            rows = card.find_elements_by_tag_name('tr') # Ряды таблички в правой части страницы\n",
    "\n",
    "            birth_date = None\n",
    "            alma_mater = None\n",
    "            degree = None\n",
    "            knowledge_score = None\n",
    "            teaching_score = None\n",
    "            communication_skill = None\n",
    "            easiness_score = None\n",
    "            overall_score = None\n",
    "\n",
    "            # первые два ряда - имя и фотография, их пропускаем\n",
    "\n",
    "            for row in rows[2:]:\n",
    "                # row_header = row.find_element_by_tag_name('t')\n",
    "                try:\n",
    "                    # пытаемся достать th\n",
    "                    row_header = row.find_element_by_tag_name('th').text # Пробуем достать header\n",
    "                    # print(row_header.text)\n",
    "\n",
    "                    if row_header == 'Дата рождения':\n",
    "                        birth_date = row.find_element_by_tag_name('td').text\n",
    "                    if row_header == 'Альма-матер':\n",
    "                        alma_mater = row.find_element_by_tag_name('td').text\n",
    "                    elif row_header == 'Учёная степень':\n",
    "                        degree = row.find_element_by_tag_name('td').text\n",
    "                    elif '—' in row_header:\n",
    "                        # для умерших преподавателей могут быть указаны годы жизни внутри тега th. В этом случае дата рождения и дата смерти разделены знаком тире.\n",
    "\n",
    "                        years_of_live = row.find_element_by_tag_name('th').text\n",
    "                        birth_date = years_of_live[0:years_of_live.find('—')-1]\n",
    "                    \n",
    "                except NoSuchElementException:\n",
    "                    # Если нет th, то возможно мы попали в оценки. Это элемент table.\n",
    "\n",
    "                    try:\n",
    "                        scores_table = row.find_element_by_tag_name('table')\n",
    "                        for score_table_row in scores_table.find_elements_by_tag_name('tr'):\n",
    "                            score_name = score_table_row.find_element_by_tag_name('td').text\n",
    "                            if score_name == 'Знания':\n",
    "                                knowledge_score = score_table_row.find_element_by_class_name('starrating-avg').text\n",
    "                                knowledge_score = parse_score(knowledge_score)\n",
    "                            elif score_name == 'Умение преподавать':\n",
    "                                teaching_score = score_table_row.find_element_by_class_name('starrating-avg').text\n",
    "                                teaching_score = parse_score(teaching_score)\n",
    "                            elif score_name == 'В общении':\n",
    "                                communication_skill = score_table_row.find_element_by_class_name('starrating-avg').text\n",
    "                                communication_skill = parse_score(communication_skill)\n",
    "                            elif score_name == '«Халявность»':\n",
    "                                easiness_score = score_table_row.find_element_by_class_name('starrating-avg').text\n",
    "                                easiness_score = parse_score(easiness_score)\n",
    "                            elif score_name == 'Общая оценка':\n",
    "                                overall_score = score_table_row.find_element_by_class_name('starrating-avg').text\n",
    "                                overall_score = parse_score(overall_score)\n",
    "                    \n",
    "                    except NoSuchElementException:\n",
    "                        break\n",
    "            \n",
    "            teachers.append([full_name, birth_date, alma_mater, department, degree, knowledge_score, teaching_score, communication_skill, easiness_score, overall_score])\n",
    "        except NoSuchElementException:\n",
    "            print('Warning! No data found for teacher {}'.format(full_name))"
   ]
  },
  {
   "cell_type": "code",
   "execution_count": 5,
   "metadata": {},
   "outputs": [
    {
     "data": {
      "text/html": [
       "<div>\n",
       "<style scoped>\n",
       "    .dataframe tbody tr th:only-of-type {\n",
       "        vertical-align: middle;\n",
       "    }\n",
       "\n",
       "    .dataframe tbody tr th {\n",
       "        vertical-align: top;\n",
       "    }\n",
       "\n",
       "    .dataframe thead th {\n",
       "        text-align: right;\n",
       "    }\n",
       "</style>\n",
       "<table border=\"1\" class=\"dataframe\">\n",
       "  <thead>\n",
       "    <tr style=\"text-align: right;\">\n",
       "      <th></th>\n",
       "      <th>full_name</th>\n",
       "      <th>birth_date</th>\n",
       "      <th>alma_mater</th>\n",
       "      <th>department</th>\n",
       "      <th>degree</th>\n",
       "      <th>knowledge_score</th>\n",
       "      <th>teaching_score</th>\n",
       "      <th>communication_skill</th>\n",
       "      <th>easiness_score</th>\n",
       "      <th>overall_score</th>\n",
       "    </tr>\n",
       "  </thead>\n",
       "  <tbody>\n",
       "    <tr>\n",
       "      <th>0</th>\n",
       "      <td>Иванов Юрий Григорьевич</td>\n",
       "      <td>None</td>\n",
       "      <td>None</td>\n",
       "      <td>Военная кафедра</td>\n",
       "      <td>None</td>\n",
       "      <td>5.0</td>\n",
       "      <td>5.0</td>\n",
       "      <td>5.0</td>\n",
       "      <td>5.0</td>\n",
       "      <td>5.0</td>\n",
       "    </tr>\n",
       "    <tr>\n",
       "      <th>1</th>\n",
       "      <td>Кваченко Андрей Владимирович</td>\n",
       "      <td>None</td>\n",
       "      <td>Тамбовское ВВАУЛ им. М. М. Расковой</td>\n",
       "      <td>Военная кафедра</td>\n",
       "      <td>кандидат технических наук</td>\n",
       "      <td>3.5</td>\n",
       "      <td>3.0</td>\n",
       "      <td>2.5</td>\n",
       "      <td>3.5</td>\n",
       "      <td>3.5</td>\n",
       "    </tr>\n",
       "    <tr>\n",
       "      <th>2</th>\n",
       "      <td>Корнеев Виктор Александрович</td>\n",
       "      <td>None</td>\n",
       "      <td>None</td>\n",
       "      <td>Военная кафедра</td>\n",
       "      <td>None</td>\n",
       "      <td>5.0</td>\n",
       "      <td>5.0</td>\n",
       "      <td>5.0</td>\n",
       "      <td>4.0</td>\n",
       "      <td>5.0</td>\n",
       "    </tr>\n",
       "    <tr>\n",
       "      <th>3</th>\n",
       "      <td>Летуновский Сергей Владимирович</td>\n",
       "      <td>None</td>\n",
       "      <td>None</td>\n",
       "      <td>Военная кафедра</td>\n",
       "      <td>None</td>\n",
       "      <td>3.0</td>\n",
       "      <td>3.0</td>\n",
       "      <td>3.0</td>\n",
       "      <td>2.0</td>\n",
       "      <td>3.0</td>\n",
       "    </tr>\n",
       "    <tr>\n",
       "      <th>4</th>\n",
       "      <td>Пешев Андрей Леонидович</td>\n",
       "      <td>None</td>\n",
       "      <td>None</td>\n",
       "      <td>Военная кафедра</td>\n",
       "      <td>None</td>\n",
       "      <td>0.0</td>\n",
       "      <td>0.0</td>\n",
       "      <td>0.0</td>\n",
       "      <td>0.0</td>\n",
       "      <td>0.0</td>\n",
       "    </tr>\n",
       "  </tbody>\n",
       "</table>\n",
       "</div>"
      ],
      "text/plain": [
       "                         full_name birth_date  \\\n",
       "0          Иванов Юрий Григорьевич       None   \n",
       "1     Кваченко Андрей Владимирович       None   \n",
       "2     Корнеев Виктор Александрович       None   \n",
       "3  Летуновский Сергей Владимирович       None   \n",
       "4          Пешев Андрей Леонидович       None   \n",
       "\n",
       "                            alma_mater       department  \\\n",
       "0                                 None  Военная кафедра   \n",
       "1  Тамбовское ВВАУЛ им. М. М. Расковой  Военная кафедра   \n",
       "2                                 None  Военная кафедра   \n",
       "3                                 None  Военная кафедра   \n",
       "4                                 None  Военная кафедра   \n",
       "\n",
       "                      degree knowledge_score teaching_score  \\\n",
       "0                       None             5.0            5.0   \n",
       "1  кандидат технических наук             3.5            3.0   \n",
       "2                       None             5.0            5.0   \n",
       "3                       None             3.0            3.0   \n",
       "4                       None             0.0            0.0   \n",
       "\n",
       "  communication_skill easiness_score overall_score  \n",
       "0                 5.0            5.0           5.0  \n",
       "1                 2.5            3.5           3.5  \n",
       "2                 5.0            4.0           5.0  \n",
       "3                 3.0            2.0           3.0  \n",
       "4                 0.0            0.0           0.0  "
      ]
     },
     "execution_count": 5,
     "metadata": {},
     "output_type": "execute_result"
    }
   ],
   "source": [
    "import pandas as pd\n",
    "teachers = pd.DataFrame(teachers, columns=['full_name', 'birth_date', 'alma_mater', 'department', 'degree', 'knowledge_score', 'teaching_score', 'communication_skill', 'easiness_score', 'overall_score'], dtype=str)\n",
    "teachers.head()"
   ]
  },
  {
   "cell_type": "code",
   "execution_count": 6,
   "metadata": {},
   "outputs": [],
   "source": [
    "teachers.to_csv('teachers.csv')"
   ]
  },
  {
   "cell_type": "code",
   "execution_count": 7,
   "metadata": {},
   "outputs": [
    {
     "data": {
      "text/plain": [
       "full_name              object\n",
       "birth_date             object\n",
       "alma_mater             object\n",
       "department             object\n",
       "degree                 object\n",
       "knowledge_score        object\n",
       "teaching_score         object\n",
       "communication_skill    object\n",
       "easiness_score         object\n",
       "overall_score          object\n",
       "dtype: object"
      ]
     },
     "execution_count": 7,
     "metadata": {},
     "output_type": "execute_result"
    }
   ],
   "source": [
    "teachers.dtypes"
   ]
  }
 ],
 "metadata": {
  "kernelspec": {
   "display_name": "Python 3",
   "language": "python",
   "name": "python3"
  },
  "language_info": {
   "codemirror_mode": {
    "name": "ipython",
    "version": 3
   },
   "file_extension": ".py",
   "mimetype": "text/x-python",
   "name": "python",
   "nbconvert_exporter": "python",
   "pygments_lexer": "ipython3",
   "version": "3.9.7"
  },
  "toc": {
   "base_numbering": 1,
   "nav_menu": {},
   "number_sections": true,
   "sideBar": true,
   "skip_h1_title": false,
   "title_cell": "Table of Contents",
   "title_sidebar": "Contents",
   "toc_cell": false,
   "toc_position": {},
   "toc_section_display": true,
   "toc_window_display": false
  }
 },
 "nbformat": 4,
 "nbformat_minor": 4
}
